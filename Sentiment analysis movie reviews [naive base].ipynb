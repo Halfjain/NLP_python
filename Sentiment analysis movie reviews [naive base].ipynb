{
 "cells": [
  {
   "cell_type": "code",
   "execution_count": 22,
   "id": "0d0dcc61",
   "metadata": {},
   "outputs": [],
   "source": [
    "import nltk"
   ]
  },
  {
   "cell_type": "code",
   "execution_count": 23,
   "id": "3df6d3a6",
   "metadata": {},
   "outputs": [],
   "source": [
    "from nltk.corpus import movie_reviews"
   ]
  },
  {
   "cell_type": "code",
   "execution_count": 24,
   "id": "f95262c7",
   "metadata": {},
   "outputs": [],
   "source": [
    "import random"
   ]
  },
  {
   "cell_type": "code",
   "execution_count": 27,
   "id": "eff97f75",
   "metadata": {},
   "outputs": [],
   "source": [
    "#pulling the sample movie review dataset from the nltk library\n",
    "from nltk.corpus import movie_reviews\n",
    "\n",
    "documents = [(list(movie_reviews.words(fileid)), category)\n",
    "              for category in movie_reviews.categories()\n",
    "              for fileid in movie_reviews.fileids(category)]"
   ]
  },
  {
   "cell_type": "code",
   "execution_count": 28,
   "id": "76d28d36",
   "metadata": {},
   "outputs": [],
   "source": [
    "random.shuffle(documents)"
   ]
  },
  {
   "cell_type": "code",
   "execution_count": 29,
   "id": "70a76226",
   "metadata": {},
   "outputs": [],
   "source": [
    "#defininf the feature extractor\n",
    "all_words = nltk.FreqDist(w.lower() for w in movie_reviews.words())\n",
    "word_features = list(all_words)[:2000]"
   ]
  },
  {
   "cell_type": "code",
   "execution_count": 34,
   "id": "eab1a406",
   "metadata": {},
   "outputs": [],
   "source": [
    "def document_features(document):\n",
    "    document_words = set(document)\n",
    "    features = {}\n",
    "    for word in word_features:\n",
    "        features['contains({})'.format(word)] = (word in document_words)\n",
    "    return features"
   ]
  },
  {
   "cell_type": "code",
   "execution_count": 31,
   "id": "bdc72051",
   "metadata": {},
   "outputs": [],
   "source": [
    "#show_most_informative_features() from NLTK allows us to see which feature in classifier\n",
    "#is found to be the most informative"
   ]
  },
  {
   "cell_type": "code",
   "execution_count": 35,
   "id": "82161f2e",
   "metadata": {},
   "outputs": [],
   "source": [
    "#training naive bayse \n",
    "featuresets = [(document_features(d), c) for (d,c) in documents]\n",
    "train_set, test_set = featuresets[100:], featuresets[:100]\n",
    "classifier = nltk.NaiveBayesClassifier.train(train_set)"
   ]
  },
  {
   "cell_type": "code",
   "execution_count": 43,
   "id": "d50e8598",
   "metadata": {},
   "outputs": [
    {
     "name": "stdout",
     "output_type": "stream",
     "text": [
      "Accuracy: 78.0 %\n"
     ]
    }
   ],
   "source": [
    "print(\"Accuracy:\", nltk.classify.accuracy(classifier, test_set) * 100,\"%\")"
   ]
  },
  {
   "cell_type": "code",
   "execution_count": 45,
   "id": "717c30f2",
   "metadata": {},
   "outputs": [
    {
     "name": "stdout",
     "output_type": "stream",
     "text": [
      "Most Informative Features\n",
      "   contains(outstanding) = True              pos : neg    =     10.8 : 1.0\n",
      "         contains(mulan) = True              pos : neg    =      8.3 : 1.0\n",
      "        contains(seagal) = True              neg : pos    =      7.8 : 1.0\n",
      "   contains(wonderfully) = True              pos : neg    =      7.2 : 1.0\n",
      "         contains(damon) = True              pos : neg    =      5.6 : 1.0\n",
      "         contains(flynt) = True              pos : neg    =      5.6 : 1.0\n",
      "        contains(wasted) = True              neg : pos    =      5.6 : 1.0\n",
      "         contains(awful) = True              neg : pos    =      5.2 : 1.0\n",
      "          contains(lame) = True              neg : pos    =      5.2 : 1.0\n",
      "         contains(waste) = True              neg : pos    =      5.0 : 1.0\n"
     ]
    }
   ],
   "source": [
    "#top 10 important features according to the model\n",
    "classifier.show_most_informative_features(10)"
   ]
  }
 ],
 "metadata": {
  "kernelspec": {
   "display_name": "Python 3",
   "language": "python",
   "name": "python3"
  },
  "language_info": {
   "codemirror_mode": {
    "name": "ipython",
    "version": 3
   },
   "file_extension": ".py",
   "mimetype": "text/x-python",
   "name": "python",
   "nbconvert_exporter": "python",
   "pygments_lexer": "ipython3",
   "version": "3.8.8"
  }
 },
 "nbformat": 4,
 "nbformat_minor": 5
}
